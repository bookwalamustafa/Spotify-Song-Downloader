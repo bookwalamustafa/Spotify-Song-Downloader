{
  "nbformat": 4,
  "nbformat_minor": 0,
  "metadata": {
    "kernelspec": {
      "display_name": "Python 3",
      "language": "python",
      "name": "python3"
    },
    "language_info": {
      "codemirror_mode": {
        "name": "ipython",
        "version": 3
      },
      "file_extension": ".py",
      "mimetype": "text/x-python",
      "name": "python",
      "nbconvert_exporter": "python",
      "pygments_lexer": "ipython3",
      "version": "3.7.1"
    },
    "colab": {
      "provenance": [],
      "include_colab_link": true
    }
  },
  "cells": [
    {
      "cell_type": "markdown",
      "metadata": {
        "id": "view-in-github",
        "colab_type": "text"
      },
      "source": [
        "<a href=\"https://colab.research.google.com/github/bookwalamustafa/Spotify-Song-Downloader/blob/main/INFO212_Week4_Lab_housing.ipynb\" target=\"_parent\"><img src=\"https://colab.research.google.com/assets/colab-badge.svg\" alt=\"Open In Colab\"/></a>"
      ]
    },
    {
      "cell_type": "markdown",
      "metadata": {
        "id": "aWL1iSNqF4kn"
      },
      "source": [
        "# INFO 212: Data Science Programming 1\n",
        "## CCI at Drexel University\n",
        "\n",
        "\n",
        "## Lab: Housing Data\n"
      ]
    },
    {
      "cell_type": "markdown",
      "source": [
        "## What to do:\n",
        "- Answer each question individually.\n",
        "- Comment on each single statement.\n",
        "- Each missing comment will be penalized by 1 point.\n",
        "- Verify the code by showing meaningful results."
      ],
      "metadata": {
        "id": "Q4M8EcE-SWrv"
      }
    },
    {
      "cell_type": "markdown",
      "source": [
        "## import packages"
      ],
      "metadata": {
        "id": "6Rrnb6Re07A4"
      }
    },
    {
      "cell_type": "code",
      "source": [],
      "metadata": {
        "id": "o5ffRw134BdW"
      },
      "execution_count": null,
      "outputs": []
    },
    {
      "cell_type": "markdown",
      "metadata": {
        "id": "u3UpQQG-3pb9"
      },
      "source": [
        "## Exercise 1:\n",
        "\n",
        "Load in the housing.csv as a Pandas DataFrame using ```pd.read_csv()```. Show the head, shape, and columns of the data frame."
      ]
    },
    {
      "cell_type": "code",
      "source": [],
      "metadata": {
        "id": "YKBX96JR4Co4"
      },
      "execution_count": null,
      "outputs": []
    },
    {
      "cell_type": "markdown",
      "source": [
        "## Exercise 2:\n",
        "Plot a histogram of the median_income column. What are the mean and median values of median_income? Write a brief discussion of your insights about the results in 100 words or less."
      ],
      "metadata": {
        "id": "zCpUaM7t2HlZ"
      }
    },
    {
      "cell_type": "code",
      "source": [],
      "metadata": {
        "id": "j3Q4kr6t4EgD"
      },
      "execution_count": null,
      "outputs": []
    },
    {
      "cell_type": "markdown",
      "source": [
        "## Exercise 3:\n",
        "\n",
        "Plot the distribution of median_house_value in box plot. What are the median, 25% percentile, 75% percentile, and mean of the median_house_value? Write a brief discussion of your insights about the results in 100 words or less."
      ],
      "metadata": {
        "id": "Oo-zMqF219WX"
      }
    },
    {
      "cell_type": "code",
      "source": [],
      "metadata": {
        "id": "Sci9xyB34F6s"
      },
      "execution_count": null,
      "outputs": []
    },
    {
      "cell_type": "markdown",
      "source": [
        "## Exercise 4:\n",
        "\n",
        "Plot the distribution of ocean_proximity into bar plot. Write a brief discussion of your insights about the results in 100 words or less."
      ],
      "metadata": {
        "id": "eeAosOlJYZaY"
      }
    },
    {
      "cell_type": "code",
      "source": [],
      "metadata": {
        "id": "R3i1rTOI4G50"
      },
      "execution_count": null,
      "outputs": []
    },
    {
      "cell_type": "markdown",
      "source": [
        "## Exercise 5:\n",
        "\n",
        "For each type of ocean_proximity, plot the median_house_value in box plot. Write a brief discussion of your insights about the results in 100 words or less."
      ],
      "metadata": {
        "id": "Zf199akM2Mkm"
      }
    },
    {
      "cell_type": "code",
      "source": [],
      "metadata": {
        "id": "0cUJuIcll7Fp"
      },
      "execution_count": null,
      "outputs": []
    }
  ]
}